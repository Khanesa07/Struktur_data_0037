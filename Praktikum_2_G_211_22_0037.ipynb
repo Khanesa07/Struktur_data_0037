{
  "nbformat": 4,
  "nbformat_minor": 0,
  "metadata": {
    "colab": {
      "provenance": [],
      "include_colab_link": true
    },
    "kernelspec": {
      "name": "python3",
      "display_name": "Python 3"
    },
    "language_info": {
      "name": "python"
    }
  },
  "cells": [
    {
      "cell_type": "markdown",
      "metadata": {
        "id": "view-in-github",
        "colab_type": "text"
      },
      "source": [
        "<a href=\"https://colab.research.google.com/github/Khanesa07/Struktur_data_0037/blob/main/Praktikum_2_G_211_22_0037.ipynb\" target=\"_parent\"><img src=\"https://colab.research.google.com/assets/colab-badge.svg\" alt=\"Open In Colab\"/></a>"
      ]
    },
    {
      "cell_type": "code",
      "source": [
        "# Membuat tuple kosong\n",
        "my_tuple = ()\n",
        "\n",
        "# Membuat tuple dengan beberapa elemen\n",
        "my_tuple = (1, 2, 3, 4, 5)\n",
        "\n",
        "# Membuat tuple dengan elemen campuran (angka dan string)\n",
        "my_tuple = (1, \"dua\", 3.0)\n",
        "\n",
        "# Tuple dapat juga dibuat tanpa tanda kurung\n",
        "my_tuple = 1, 2, 3\n",
        "\n",
        "# Membuat tuple dengan satu elemen\n",
        "single_element_tuple = (42,)  # Harus ada koma setelah elemen tunggal\n",
        "\n",
        "print(my_tuple)\n"
      ],
      "metadata": {
        "colab": {
          "base_uri": "https://localhost:8080/"
        },
        "id": "y3RwGm9EMHrk",
        "outputId": "42acd0f5-31a9-4f08-fc91-bf1b2b9004ab"
      },
      "execution_count": null,
      "outputs": [
        {
          "output_type": "stream",
          "name": "stdout",
          "text": [
            "(1, 2, 3)\n"
          ]
        }
      ]
    },
    {
      "cell_type": "code",
      "source": [
        "# Membuat tuple awal\n",
        "my_tuple = (1, 2, 3, 4, 5)\n",
        "\n",
        "# Menghapus elemen dengan membuat tuple baru tanpa elemen yang ingin dihapus\n",
        "new_tuple = my_tuple[:2] + my_tuple[3:]\n",
        "\n",
        "print(new_tuple)\n"
      ],
      "metadata": {
        "colab": {
          "base_uri": "https://localhost:8080/"
        },
        "id": "jt_xcYoTMY7X",
        "outputId": "47cf2890-2ad0-4442-919a-ecd733110cc2"
      },
      "execution_count": null,
      "outputs": [
        {
          "output_type": "stream",
          "name": "stdout",
          "text": [
            "(1, 2, 4, 5)\n"
          ]
        }
      ]
    },
    {
      "cell_type": "code",
      "source": [
        "# Membuat tuple awal\n",
        "my_tuple = (1, 2, 3, 4, 5)\n",
        "\n",
        "# Menambahkan elemen baru ke tuple dengan membuat tuple baru\n",
        "new_tuple = my_tuple + (6,)\n",
        "\n",
        "# Menggantikan elemen di dalam tuple dengan membuat tuple baru\n",
        "updated_tuple = my_tuple[:3] + (10, 20, 30) + my_tuple[4:]\n",
        "\n",
        "print(new_tuple)\n",
        "print(updated_tuple)\n"
      ],
      "metadata": {
        "colab": {
          "base_uri": "https://localhost:8080/"
        },
        "id": "_KmHwRMvNK50",
        "outputId": "10ecd818-3da0-4cbb-c07f-1cd6612bf44a"
      },
      "execution_count": null,
      "outputs": [
        {
          "output_type": "stream",
          "name": "stdout",
          "text": [
            "(1, 2, 3, 4, 5, 6)\n",
            "(1, 2, 3, 10, 20, 30, 5)\n"
          ]
        }
      ]
    },
    {
      "cell_type": "code",
      "source": [
        "# Membuat dictionary kosong\n",
        "my_dict = {}\n",
        "\n",
        "# Menambahkan elemen ke dalam dictionary\n",
        "my_dict['nama'] = 'Khanesa'\n",
        "my_dict['usia'] = 19\n",
        "my_dict['kota'] = 'Sanggau'\n",
        "\n",
        "# Menampilkan dictionary\n",
        "print(my_dict)\n",
        "\n",
        "# Mengakses nilai dari dictionary\n",
        "nama = my_dict['nama']\n",
        "usia = my_dict['usia']\n",
        "kota = my_dict['kota']\n",
        "\n",
        "print(f'Nama: {nama}')\n",
        "print(f'Usia: {usia}')\n",
        "print(f'Kota: {kota}')\n",
        "\n",
        "# Mengubah nilai dalam dictionary\n",
        "my_dict['usia'] = 31\n",
        "\n",
        "# Menghapus elemen dari dictionary\n",
        "del my_dict['kota']\n",
        "\n",
        "# Mengakses dictionary setelah diubah\n",
        "print(my_dict)\n"
      ],
      "metadata": {
        "colab": {
          "base_uri": "https://localhost:8080/"
        },
        "id": "xhmDcjjAOp5U",
        "outputId": "d4be6644-8c54-4bcf-a726-6cae4f925278"
      },
      "execution_count": null,
      "outputs": [
        {
          "output_type": "stream",
          "name": "stdout",
          "text": [
            "{'nama': 'Khanesa', 'usia': 19, 'kota': 'Sanggau'}\n",
            "Nama: Khanesa\n",
            "Usia: 19\n",
            "Kota: Sanggau\n",
            "{'nama': 'Khanesa', 'usia': 31}\n"
          ]
        }
      ]
    },
    {
      "cell_type": "code",
      "source": [
        "# Membuat dictionary kosong\n",
        "my_dict = {}\n",
        "\n",
        "# Menambahkan elemen ke dalam dictionary\n",
        "my_dict['nama'] = 'Khanesa'\n",
        "my_dict['usia'] = 19\n",
        "my_dict['kota'] = 'Sanggau'\n",
        "\n",
        "# Menampilkan dictionary\n",
        "print(my_dict)\n",
        "\n",
        "# Mengakses nilai dari dictionary\n",
        "nama = my_dict['nama']\n",
        "usia = my_dict['usia']\n",
        "kota = my_dict['kota']\n",
        "\n",
        "print(f'Nama: {nama}')\n",
        "print(f'Usia: {usia}')\n",
        "print(f'Kota: {kota}')\n",
        "\n",
        "# Mengubah nilai dalam dictionary\n",
        "my_dict['usia'] = 22\n",
        "\n",
        "# Menghapus elemen dari dictionary\n",
        "del my_dict['kota']\n",
        "\n",
        "# Mengakses dictionary setelah diubah\n",
        "print(my_dict)\n",
        "\n",
        "# Iterasi melalui key dan value dalam dictionary\n",
        "for key, value in my_dict.items():\n",
        "    print(f'{key}: {value}')\n"
      ],
      "metadata": {
        "colab": {
          "base_uri": "https://localhost:8080/"
        },
        "id": "-3nOuoXHO19v",
        "outputId": "eb9c5c14-56a9-44b5-87e9-25341f6e217b"
      },
      "execution_count": null,
      "outputs": [
        {
          "output_type": "stream",
          "name": "stdout",
          "text": [
            "{'nama': 'Khanesa', 'usia': 19, 'kota': 'Sanggau'}\n",
            "Nama: Khanesa\n",
            "Usia: 19\n",
            "Kota: Sanggau\n",
            "{'nama': 'Khanesa', 'usia': 22}\n",
            "nama: Khanesa\n",
            "usia: 22\n"
          ]
        }
      ]
    }
  ]
}