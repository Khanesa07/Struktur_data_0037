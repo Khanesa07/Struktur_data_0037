{
  "nbformat": 4,
  "nbformat_minor": 0,
  "metadata": {
    "colab": {
      "provenance": []
    },
    "kernelspec": {
      "name": "python3",
      "display_name": "Python 3"
    },
    "language_info": {
      "name": "python"
    }
  },
  "cells": [
    {
      "cell_type": "code",
      "execution_count": null,
      "metadata": {
        "id": "yj-6fB3WCRjZ"
      },
      "outputs": [],
      "source": [
        "warna = []"
      ]
    },
    {
      "cell_type": "code",
      "source": [
        "hobi = [\"AGUS\"]"
      ],
      "metadata": {
        "id": "W7VQNu30Cjgl"
      },
      "execution_count": null,
      "outputs": []
    },
    {
      "cell_type": "code",
      "source": [
        "buah = [\"jeruk\",\"apel\",\"mangga\",\"duren\"]"
      ],
      "metadata": {
        "id": "BdVmrC4fD1s5"
      },
      "execution_count": null,
      "outputs": []
    },
    {
      "cell_type": "code",
      "source": [
        "my_freinds = [\"rama\",\"gilang\",\"hendy\",\"hilmi\",\"ezra\"]"
      ],
      "metadata": {
        "id": "4ly87dQ9FJUZ"
      },
      "execution_count": null,
      "outputs": []
    },
    {
      "cell_type": "code",
      "source": [
        "print (\"isi my_freinds indeks ke-3 adalah: {}\".format(my_freinds[3]))"
      ],
      "metadata": {
        "colab": {
          "base_uri": "https://localhost:8080/"
        },
        "id": "SDcm2D7uFcXa",
        "outputId": "21124ca6-59bf-4d62-87ad-f284ac8953f1"
      },
      "execution_count": null,
      "outputs": [
        {
          "output_type": "stream",
          "name": "stdout",
          "text": [
            "isi my_freinds indeks ke-3 adalah: hilmi\n"
          ]
        }
      ]
    },
    {
      "cell_type": "code",
      "source": [
        "print (\"Semua teman: ada {} orang\".format(len(my_freinds)))\n",
        "for freind in my_freinds : print(freind)"
      ],
      "metadata": {
        "colab": {
          "base_uri": "https://localhost:8080/"
        },
        "id": "INzRd-lsF8nB",
        "outputId": "49def5e5-ad85-4904-a632-5c6f0459d655"
      },
      "execution_count": null,
      "outputs": [
        {
          "output_type": "stream",
          "name": "stdout",
          "text": [
            "Semua teman: ada 5 orang\n",
            "rama\n",
            "gilang\n",
            "hendy\n",
            "hilmi\n",
            "ezra\n"
          ]
        }
      ]
    },
    {
      "cell_type": "code",
      "source": [
        "buah = [\"Apel\",\"mangga\",\"nangka\",\"jeruk\",\"nanas\"]\n",
        "buah.append(\"manggis\")\n",
        "print(buah)"
      ],
      "metadata": {
        "id": "6PLqJGC6JfTA",
        "colab": {
          "base_uri": "https://localhost:8080/"
        },
        "outputId": "4e416a01-8b51-46af-f129-d60aad80da50"
      },
      "execution_count": 2,
      "outputs": [
        {
          "output_type": "stream",
          "name": "stdout",
          "text": [
            "['Apel', 'mangga', 'nangka', 'jeruk', 'nanas', 'manggis']\n"
          ]
        }
      ]
    },
    {
      "cell_type": "code",
      "source": [
        "for i in range(5):\n",
        "  print(\"perulangan ke -\", i)"
      ],
      "metadata": {
        "colab": {
          "base_uri": "https://localhost:8080/"
        },
        "id": "v-ES3jBULRmn",
        "outputId": "cedf5d68-ea02-41e2-fe11-9d5b621bb517"
      },
      "execution_count": null,
      "outputs": [
        {
          "output_type": "stream",
          "name": "stdout",
          "text": [
            "perulangan ke - 0\n",
            "perulangan ke - 1\n",
            "perulangan ke - 2\n",
            "perulangan ke - 3\n",
            "perulangan ke - 4\n"
          ]
        }
      ]
    },
    {
      "cell_type": "code",
      "source": [
        "list_nilai = [21,22,23,24,25,26,27,28,29,30]\n",
        "print(\"List Nilai : \\n\",list_nilai)\n"
      ],
      "metadata": {
        "colab": {
          "base_uri": "https://localhost:8080/"
        },
        "id": "O54ulsqra6Aq",
        "outputId": "81642247-68fa-485b-b969-18b821b1a1d0"
      },
      "execution_count": 3,
      "outputs": [
        {
          "output_type": "stream",
          "name": "stdout",
          "text": [
            "List Nilai : \n",
            " [21, 22, 23, 24, 25, 26, 27, 28, 29, 30]\n"
          ]
        }
      ]
    },
    {
      "cell_type": "code",
      "source": [
        "print(\"\\nJumlah Index list nilai (len) : \\n\", len(list_nilai))"
      ],
      "metadata": {
        "colab": {
          "base_uri": "https://localhost:8080/"
        },
        "id": "7dwMY-OLbLGf",
        "outputId": "9a44cea0-2e09-463b-ae68-c9dfcd8d62f8"
      },
      "execution_count": 4,
      "outputs": [
        {
          "output_type": "stream",
          "name": "stdout",
          "text": [
            "\n",
            "Jumlah Index list nilai (len) : \n",
            " 10\n"
          ]
        }
      ]
    },
    {
      "cell_type": "code",
      "source": [
        "print(\"\\nJumlah Nilai 25 Dalam List (count) : \\n\", list_nilai.count(25))"
      ],
      "metadata": {
        "colab": {
          "base_uri": "https://localhost:8080/"
        },
        "id": "yIFsguOFbcU3",
        "outputId": "f5acacec-ed1a-453e-fcf5-d354cc8cd116"
      },
      "execution_count": 7,
      "outputs": [
        {
          "output_type": "stream",
          "name": "stdout",
          "text": [
            "\n",
            "Jumlah Nilai 25 Dalam List (count) : \n",
            " 1\n"
          ]
        }
      ]
    },
    {
      "cell_type": "code",
      "source": [
        "print(\"\\nMenambah element dalam list (append) : \")\n",
        "list_nilai.append(32)\n",
        "list_nilai.append(30)\n",
        "print(\"List Nilai : \",list_nilai)"
      ],
      "metadata": {
        "colab": {
          "base_uri": "https://localhost:8080/"
        },
        "id": "KuNNC-K-b16b",
        "outputId": "c9f4257d-2ecc-4206-a5e3-5da33e9f69cb"
      },
      "execution_count": 12,
      "outputs": [
        {
          "output_type": "stream",
          "name": "stdout",
          "text": [
            "\n",
            "Menambah element dalam list (append) : \n",
            "List Nilai :  [21, 22, 23, 24, 25, 26, 27, 28, 29, 30, 32, 32, 32, 30, 32, 30, 32, 30]\n"
          ]
        }
      ]
    },
    {
      "cell_type": "code",
      "source": [
        "print(\"\\nIndex ke 28 (index) : \\n\", list_nilai.index(28))"
      ],
      "metadata": {
        "colab": {
          "base_uri": "https://localhost:8080/"
        },
        "id": "6IWXXgZvcmfy",
        "outputId": "1786bf3e-c5cb-4897-cf32-5453f8398fb7"
      },
      "execution_count": 13,
      "outputs": [
        {
          "output_type": "stream",
          "name": "stdout",
          "text": [
            "\n",
            "Index ke 28 (index) : \n",
            " 7\n"
          ]
        }
      ]
    },
    {
      "cell_type": "code",
      "source": [
        "list_nilai.insert(21,22)\n",
        "print(\"\\nTambah Nilai List (Insert) : \\n\", list_nilai)"
      ],
      "metadata": {
        "colab": {
          "base_uri": "https://localhost:8080/"
        },
        "id": "8ornbnyTc4xa",
        "outputId": "33d429b8-e4f5-4bb0-c04c-2122877dd590"
      },
      "execution_count": 15,
      "outputs": [
        {
          "output_type": "stream",
          "name": "stdout",
          "text": [
            "\n",
            "Tambah Nilai List (Insert) : \n",
            " [21, 22, 23, 24, 25, 26, 27, 28, 29, 30, 32, 32, 32, 30, 32, 30, 32, 30, 22, 22]\n"
          ]
        }
      ]
    },
    {
      "cell_type": "code",
      "source": [
        "list_nilai.pop(5)\n",
        "list_nilai.pop(8)\n",
        "print(\"\\nList Nilai (pop) : \\n\",list_nilai)"
      ],
      "metadata": {
        "colab": {
          "base_uri": "https://localhost:8080/"
        },
        "id": "0z-MZgK2dBV5",
        "outputId": "8c5fea6e-d08e-4e5c-f0ba-12f1cd413b9f"
      },
      "execution_count": 21,
      "outputs": [
        {
          "output_type": "stream",
          "name": "stdout",
          "text": [
            "\n",
            "List Nilai (pop) : \n",
            " [21, 22, 23, 24, 25, 32, 32, 30, 30, 32, 30]\n"
          ]
        }
      ]
    },
    {
      "cell_type": "code",
      "source": [
        "list_nilai.remove(22)\n",
        "list_nilai.remove(25)\n",
        "print(\"\\nList Nilai (remove) : \\n\", list_nilai)"
      ],
      "metadata": {
        "colab": {
          "base_uri": "https://localhost:8080/"
        },
        "id": "vLngQxu_jMPu",
        "outputId": "47a8e5d9-9723-4dda-c2ad-91de5d6833a9"
      },
      "execution_count": 22,
      "outputs": [
        {
          "output_type": "stream",
          "name": "stdout",
          "text": [
            "\n",
            "List Nilai (remove) : \n",
            " [21, 23, 24, 32, 32, 30, 30, 32, 30]\n"
          ]
        }
      ]
    },
    {
      "cell_type": "code",
      "source": [
        "list_nilai2 = [21,23,24,30]\n",
        "list_nilai.extend(list_nilai2)\n",
        "print(\"\\nList Nilai (extend : \\n\", list_nilai)"
      ],
      "metadata": {
        "colab": {
          "base_uri": "https://localhost:8080/"
        },
        "id": "bh5mSkM7jhLM",
        "outputId": "a38ae9ab-5949-4299-81eb-80d5b4bc48bf"
      },
      "execution_count": 23,
      "outputs": [
        {
          "output_type": "stream",
          "name": "stdout",
          "text": [
            "\n",
            "List Nilai (extend : \n",
            " [21, 23, 24, 32, 32, 30, 30, 32, 30, 21, 23, 24, 30]\n"
          ]
        }
      ]
    },
    {
      "cell_type": "code",
      "source": [
        "list_nilai.reverse()\n",
        "print(\"\\nList Nilai (reverse) : \\n\", list_nilai)"
      ],
      "metadata": {
        "colab": {
          "base_uri": "https://localhost:8080/"
        },
        "id": "hvLzkF6fjq99",
        "outputId": "47c77323-f621-46be-ced9-33f8e0329f0d"
      },
      "execution_count": 26,
      "outputs": [
        {
          "output_type": "stream",
          "name": "stdout",
          "text": [
            "\n",
            "List Nilai (reverse) : \n",
            " [21, 23, 24, 32, 32, 30, 30, 32, 30, 21, 23, 24, 30]\n"
          ]
        }
      ]
    },
    {
      "cell_type": "code",
      "source": [
        "list_nilai.sort()\n",
        "print(\"\\nList Nilai (sort) : \\n\", list_nilai)"
      ],
      "metadata": {
        "colab": {
          "base_uri": "https://localhost:8080/"
        },
        "id": "8NaN0AaljzXT",
        "outputId": "6188e6b1-0554-4c41-bcc4-0e378faed0ac"
      },
      "execution_count": 27,
      "outputs": [
        {
          "output_type": "stream",
          "name": "stdout",
          "text": [
            "\n",
            "List Nilai (sort) : \n",
            " [21, 21, 23, 23, 24, 24, 30, 30, 30, 30, 32, 32, 32]\n"
          ]
        }
      ]
    },
    {
      "cell_type": "code",
      "source": [
        "print(\"\\nNilai Terbanyak (max) : \\n\", max(list_nilai))"
      ],
      "metadata": {
        "colab": {
          "base_uri": "https://localhost:8080/"
        },
        "id": "pg3ApNJdj2Vx",
        "outputId": "7f6b6f65-577d-43f7-9c39-5535c4ee314d"
      },
      "execution_count": 28,
      "outputs": [
        {
          "output_type": "stream",
          "name": "stdout",
          "text": [
            "\n",
            "Nilai Terbanyak (max) : \n",
            " 32\n"
          ]
        }
      ]
    },
    {
      "cell_type": "code",
      "source": [
        "print(\"\\nNilai terendah (min) : \\n\", min(list_nilai))"
      ],
      "metadata": {
        "colab": {
          "base_uri": "https://localhost:8080/"
        },
        "id": "e-AIZZZEj5VG",
        "outputId": "7d9f33fd-b0b3-46ad-e639-b7b9c30c244c"
      },
      "execution_count": 29,
      "outputs": [
        {
          "output_type": "stream",
          "name": "stdout",
          "text": [
            "\n",
            "Nilai terendah (min) : \n",
            " 21\n"
          ]
        }
      ]
    },
    {
      "cell_type": "code",
      "source": [
        "print(\"\\nTotal penjumlahan nilai dari list_nilai (sum) : \\n\",\n",
        "sum(list_nilai))"
      ],
      "metadata": {
        "colab": {
          "base_uri": "https://localhost:8080/"
        },
        "id": "hzCV1YSPj84J",
        "outputId": "ab76c44f-dcc4-49c6-9119-6eb89bd78fda"
      },
      "execution_count": 30,
      "outputs": [
        {
          "output_type": "stream",
          "name": "stdout",
          "text": [
            "\n",
            "Total penjumlahan nilai dari list_nilai (sum) : \n",
            " 352\n"
          ]
        }
      ]
    }
  ]
}