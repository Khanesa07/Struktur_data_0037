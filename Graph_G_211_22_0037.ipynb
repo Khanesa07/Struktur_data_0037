{
  "nbformat": 4,
  "nbformat_minor": 0,
  "metadata": {
    "colab": {
      "provenance": [],
      "authorship_tag": "ABX9TyMOknMPJfZIp98QTVMcK29Z",
      "include_colab_link": true
    },
    "kernelspec": {
      "name": "python3",
      "display_name": "Python 3"
    },
    "language_info": {
      "name": "python"
    }
  },
  "cells": [
    {
      "cell_type": "markdown",
      "metadata": {
        "id": "view-in-github",
        "colab_type": "text"
      },
      "source": [
        "<a href=\"https://colab.research.google.com/github/Khanesa07/Struktur_data_0037/blob/main/Graph_G_211_22_0037.ipynb\" target=\"_parent\"><img src=\"https://colab.research.google.com/assets/colab-badge.svg\" alt=\"Open In Colab\"/></a>"
      ]
    },
    {
      "cell_type": "markdown",
      "source": [
        " Dijkstra shortest"
      ],
      "metadata": {
        "id": "Mk8RI6aTkJ0u"
      }
    },
    {
      "cell_type": "code",
      "source": [
        "import heapq\n",
        "\n",
        "class Graph:\n",
        "    def __init__(self):\n",
        "        self.nodes = set()\n",
        "        self.edges = {}\n",
        "        self.distances = {}\n",
        "\n",
        "    def add_node(self, value):\n",
        "        self.nodes.add(value)\n",
        "\n",
        "    def add_edge(self, from_node, to_node, distance):\n",
        "        self.edges.setdefault(from_node, []).append(to_node)\n",
        "        self.edges.setdefault(to_node, []).append(from_node)\n",
        "        self.distances[(from_node, to_node)] = distance\n",
        "        self.distances[(to_node, from_node)] = distance\n",
        "\n",
        "    def dijkstra(self, initial):\n",
        "        visited = {initial: 0}\n",
        "        path = {}\n",
        "\n",
        "        nodes = set(self.nodes)\n",
        "\n",
        "        while nodes:\n",
        "            min_node = None\n",
        "            for node in nodes:\n",
        "                if node in visited:\n",
        "                    if min_node is None:\n",
        "                        min_node = node\n",
        "                    elif visited[node] < visited[min_node]:\n",
        "                        min_node = node\n",
        "\n",
        "            if min_node is None:\n",
        "                break\n",
        "\n",
        "            nodes.remove(min_node)\n",
        "            current_weight = visited[min_node]\n",
        "\n",
        "            for edge in self.edges[min_node]:\n",
        "                weight = current_weight + self.distances[(min_node, edge)]\n",
        "                if edge not in visited or weight < visited[edge]:\n",
        "                    visited[edge] = weight\n",
        "                    path[edge] = min_node\n",
        "\n",
        "        return visited, path\n",
        "\n",
        "    def shortest_path(self, initial, goal):\n",
        "        distances, paths = self.dijkstra(initial)\n",
        "        route = []\n",
        "        while goal:\n",
        "            route.append(goal)\n",
        "            goal = paths.get(goal)\n",
        "        return distances[route[0]], list(reversed(route))\n",
        "\n",
        "# Contoh penggunaan:\n",
        "g = Graph()\n",
        "\n",
        "# Menambahkan node\n",
        "nodes = [0, 1, 2, 3, 4, 5, 6]\n",
        "for node in nodes:\n",
        "    g.add_node(node)\n",
        "\n",
        "# Menambahkan edge dan jarak antar node\n",
        "g.add_edge(0, 1, 4)\n",
        "g.add_edge(0, 2, 2)\n",
        "g.add_edge(1, 2, 5)\n",
        "g.add_edge(1, 3, 10)\n",
        "g.add_edge(2, 3, 3)\n",
        "g.add_edge(3, 4, 7)\n",
        "\n",
        "start_node = 0\n",
        "end_node = 4\n",
        "shortest_distance, shortest_path = g.shortest_path(start_node, end_node)\n",
        "\n",
        "print(f\"Jarak terpendek dari node {start_node} ke node {end_node}: {shortest_distance}\")\n",
        "print(f\"Lintasan terpendek: {' -> '.join(str(node) for node in shortest_path)}\")\n"
      ],
      "metadata": {
        "colab": {
          "base_uri": "https://localhost:8080/"
        },
        "id": "q_1wPO_0kOX1",
        "outputId": "a9880b76-7789-4097-929e-4b3666eef93e"
      },
      "execution_count": 1,
      "outputs": [
        {
          "output_type": "stream",
          "name": "stdout",
          "text": [
            "Jarak terpendek dari node 0 ke node 4: 12\n",
            "Lintasan terpendek: 2 -> 3 -> 4\n"
          ]
        }
      ]
    }
  ]
}