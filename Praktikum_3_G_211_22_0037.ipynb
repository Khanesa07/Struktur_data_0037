{
  "nbformat": 4,
  "nbformat_minor": 0,
  "metadata": {
    "colab": {
      "provenance": [],
      "include_colab_link": true
    },
    "kernelspec": {
      "name": "python3",
      "display_name": "Python 3"
    },
    "language_info": {
      "name": "python"
    }
  },
  "cells": [
    {
      "cell_type": "markdown",
      "metadata": {
        "id": "view-in-github",
        "colab_type": "text"
      },
      "source": [
        "<a href=\"https://colab.research.google.com/github/Khanesa07/Struktur_data_0037/blob/main/Praktikum_3_G_211_22_0037.ipynb\" target=\"_parent\"><img src=\"https://colab.research.google.com/assets/colab-badge.svg\" alt=\"Open In Colab\"/></a>"
      ]
    },
    {
      "cell_type": "code",
      "source": [
        "def list_to_string(input_list):\n",
        "    # Menggabungkan semua karakter dalam daftar menjadi satu string\n",
        "    output_string = ''.join(input_list)\n",
        "    return output_string\n",
        "\n",
        "# Contoh penggunaan fungsi dengan input yang lebih kompleks\n",
        "input_list = ['p', 'r', 'o', 'g', 'r', 'a', 'm', 'm', 'i', 'n', 'g']\n",
        "output_string = list_to_string(input_list)\n",
        "\n",
        "print(\"Hasil susunan:\", output_string)\n"
      ],
      "metadata": {
        "colab": {
          "base_uri": "https://localhost:8080/"
        },
        "id": "x4ZkvHtwSe-s",
        "outputId": "41b053f6-2ffe-472b-aab7-90e326bfb160"
      },
      "execution_count": 1,
      "outputs": [
        {
          "output_type": "stream",
          "name": "stdout",
          "text": [
            "Hasil susunan: programming\n"
          ]
        }
      ]
    }
  ]
}